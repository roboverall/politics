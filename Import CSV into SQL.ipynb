{
 "cells": [
  {
   "cell_type": "code",
   "execution_count": 2,
   "metadata": {},
   "outputs": [],
   "source": [
    "import csv\n",
    "import pyodbc"
   ]
  },
  {
   "cell_type": "code",
   "execution_count": 209,
   "metadata": {},
   "outputs": [],
   "source": [
    "def import_into_sql(filepath, tablename):\n",
    "    path = filepath\n",
    "    table_name = tablename\n",
    "    \n",
    "    # Set up connection\n",
    "    conn = pyodbc.connect(r'DSN=adworksDSN;UID=python;PWD=password')\n",
    "    cur = conn.cursor()\n",
    "    f= open(path,encoding='utf-8')\n",
    "\n",
    "    # Read in CSV File\n",
    "    csv_data = csv.reader(f)\n",
    "    headers_file = next(csv_data)\n",
    "    x='?,'\n",
    "    number_of_columns = '(' + x*(len(headers_file)-1) + '?)'\n",
    "\n",
    "    # Create string containing column name and datatype\n",
    "    column_plus_data = ''\n",
    "    column_plus_data = '('\n",
    "    for c in headers_file:\n",
    "        if c != headers_file[len(headers_file)-1]:\n",
    "            column_plus_data += '[' + c + ']'+ ' ' + 'varchar(1000)' + \",\"\n",
    "        else:\n",
    "            column_plus_data += '[' + c + ']' + ' ' + 'varchar(1000)' +\")\"\n",
    "\n",
    "    # Create Table in SQL\n",
    "    q = cur.execute('if object_id('+ \"'\"+table_name+\"'\" + ') is not null begin drop table ' + table_name +' end')\n",
    "    cur.commit()\n",
    "    \n",
    "    create_table_query = 'CREATE TABLE ' + table_name  + ' ' + column_plus_data\n",
    "    cur.execute(create_table_query)\n",
    "    cur.commit()\n",
    "\n",
    "\n",
    "    # Create column string for table creation and insertion\n",
    "    column = ''\n",
    "    column = '('\n",
    "    for i in headers_file:\n",
    "        if i != headers_file[len(headers_file)-1]:\n",
    "            column += '[' + i + ']'+','\n",
    "        else:\n",
    "            column += '[' + i + ']'+')'\n",
    "\n",
    "    # Insert data into SQL table\n",
    "    for rows in csv_data:\n",
    "        \n",
    "        cur.execute('INSERT INTO ' + table_name + ' ' + column + 'VALUES ' + number_of_columns ,rows)\n",
    "    cur.commit()\n",
    "    return print('DATA IMPORTED INTO SQL - PLEASE CHECK')\n"
   ]
  },
  {
   "cell_type": "code",
   "execution_count": 210,
   "metadata": {},
   "outputs": [
    {
     "name": "stdout",
     "output_type": "stream",
     "text": [
      "DATA IMPORTED INTO SQL - PLEASE CHECK\n"
     ]
    }
   ],
   "source": [
    "import_into_sql(r'C:\\Users\\Student\\Documents\\Python Scripts\\2016-12-metropolitan-street.csv','sql_import1')"
   ]
  }
 ],
 "metadata": {
  "kernelspec": {
   "display_name": "Python 3",
   "language": "python",
   "name": "python3"
  },
  "language_info": {
   "codemirror_mode": {
    "name": "ipython",
    "version": 3
   },
   "file_extension": ".py",
   "mimetype": "text/x-python",
   "name": "python",
   "nbconvert_exporter": "python",
   "pygments_lexer": "ipython3",
   "version": "3.6.4"
  }
 },
 "nbformat": 4,
 "nbformat_minor": 2
}
