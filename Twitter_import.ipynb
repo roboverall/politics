{
 "cells": [
  {
   "cell_type": "code",
   "execution_count": 107,
   "metadata": {},
   "outputs": [],
   "source": [
    "from twython import Twython, TwythonStreamer\n",
    "import pyodbc\n",
    "from Auth import *\n",
    "from vaderSentiment.vaderSentiment import SentimentIntensityAnalyzer"
   ]
  },
  {
   "cell_type": "code",
   "execution_count": 108,
   "metadata": {},
   "outputs": [],
   "source": [
    "twitter = Twython(CONSUMER_KEY,CONSUMER_SECRET)"
   ]
  },
  {
   "cell_type": "code",
   "execution_count": 109,
   "metadata": {},
   "outputs": [],
   "source": [
    "tweets = []"
   ]
  },
  {
   "cell_type": "code",
   "execution_count": 25,
   "metadata": {},
   "outputs": [],
   "source": [
    "class MyTwythonStreamer(TwythonStreamer):\n",
    "    def on_success(self,data):\n",
    "        if data['lang']=='en':\n",
    "            tweets.append(data)\n",
    "            print('recieved tweet #{}'.format(len(tweets)))\n",
    "        if len(tweets) >= 20:\n",
    "            self.disconnect()\n",
    "    def on_error(self, status_code, data):\n",
    "        print(status_code, data)\n",
    "        self.disconnect()"
   ]
  },
  {
   "cell_type": "code",
   "execution_count": 110,
   "metadata": {},
   "outputs": [],
   "source": [
    "stream = MyTwythonStreamer(CONSUMER_KEY,CONSUMER_SECRET, ACCESS_TOKEN,ACCESS_TOKEN_SECRET)"
   ]
  },
  {
   "cell_type": "code",
   "execution_count": 111,
   "metadata": {},
   "outputs": [
    {
     "name": "stdout",
     "output_type": "stream",
     "text": [
      "recieved tweet #1\n",
      "recieved tweet #2\n",
      "recieved tweet #3\n",
      "recieved tweet #4\n",
      "recieved tweet #5\n",
      "recieved tweet #6\n",
      "recieved tweet #7\n",
      "recieved tweet #8\n",
      "recieved tweet #9\n",
      "recieved tweet #10\n",
      "recieved tweet #11\n",
      "recieved tweet #12\n",
      "recieved tweet #13\n",
      "recieved tweet #14\n",
      "recieved tweet #15\n",
      "recieved tweet #16\n",
      "recieved tweet #17\n",
      "recieved tweet #18\n",
      "recieved tweet #19\n",
      "recieved tweet #20\n"
     ]
    }
   ],
   "source": [
    "stream.statuses.filter(track='trump')"
   ]
  },
  {
   "cell_type": "code",
   "execution_count": 112,
   "metadata": {},
   "outputs": [],
   "source": [
    "analyser = SentimentIntensityAnalyzer()"
   ]
  },
  {
   "cell_type": "code",
   "execution_count": 177,
   "metadata": {},
   "outputs": [],
   "source": [
    "conn = pyodbc.connect(r'DSN=adworksDSN;UID=python;PWD=password')\n",
    "cur = conn.cursor()"
   ]
  },
  {
   "cell_type": "code",
   "execution_count": 193,
   "metadata": {},
   "outputs": [
    {
     "ename": "ProgrammingError",
     "evalue": "('The SQL contains 9 parameter markers, but 10 parameters were supplied', 'HY000')",
     "output_type": "error",
     "traceback": [
      "\u001b[1;31m---------------------------------------------------------------------------\u001b[0m",
      "\u001b[1;31mProgrammingError\u001b[0m                          Traceback (most recent call last)",
      "\u001b[1;32m<ipython-input-193-0e9a261fea9b>\u001b[0m in \u001b[0;36m<module>\u001b[1;34m()\u001b[0m\n\u001b[0;32m     19\u001b[0m     \u001b[0msql_table\u001b[0m\u001b[1;33m.\u001b[0m\u001b[0mappend\u001b[0m\u001b[1;33m(\u001b[0m\u001b[0mitems\u001b[0m\u001b[1;33m.\u001b[0m\u001b[0mget\u001b[0m\u001b[1;33m(\u001b[0m\u001b[1;34m'user'\u001b[0m\u001b[1;33m)\u001b[0m\u001b[1;33m.\u001b[0m\u001b[0mget\u001b[0m\u001b[1;33m(\u001b[0m\u001b[1;34m'followers_count'\u001b[0m\u001b[1;33m)\u001b[0m\u001b[1;33m)\u001b[0m\u001b[1;33m\u001b[0m\u001b[0m\n\u001b[0;32m     20\u001b[0m     \u001b[0msql_table\u001b[0m\u001b[1;33m.\u001b[0m\u001b[0mappend\u001b[0m\u001b[1;33m(\u001b[0m\u001b[0mitems\u001b[0m\u001b[1;33m.\u001b[0m\u001b[0mget\u001b[0m\u001b[1;33m(\u001b[0m\u001b[1;34m'user'\u001b[0m\u001b[1;33m)\u001b[0m\u001b[1;33m.\u001b[0m\u001b[0mget\u001b[0m\u001b[1;33m(\u001b[0m\u001b[1;34m'friends_count'\u001b[0m\u001b[1;33m)\u001b[0m\u001b[1;33m)\u001b[0m\u001b[1;33m\u001b[0m\u001b[0m\n\u001b[1;32m---> 21\u001b[1;33m     \u001b[0mcur\u001b[0m\u001b[1;33m.\u001b[0m\u001b[0mexecute\u001b[0m\u001b[1;33m(\u001b[0m\u001b[1;34m'INSERT INTO twitter (id, [time], [text], compound_sentiment, lang, location, [description], followers_count, friends_count) Values (?,?,?,?,?,?,?,?,?)'\u001b[0m\u001b[1;33m,\u001b[0m\u001b[0msql_table\u001b[0m\u001b[1;33m)\u001b[0m\u001b[1;33m\u001b[0m\u001b[0m\n\u001b[0m\u001b[0;32m     22\u001b[0m \u001b[1;33m\u001b[0m\u001b[0m\n\u001b[0;32m     23\u001b[0m \u001b[0mcur\u001b[0m\u001b[1;33m.\u001b[0m\u001b[0mcommit\u001b[0m\u001b[1;33m(\u001b[0m\u001b[1;33m)\u001b[0m\u001b[1;33m\u001b[0m\u001b[0m\n",
      "\u001b[1;31mProgrammingError\u001b[0m: ('The SQL contains 9 parameter markers, but 10 parameters were supplied', 'HY000')"
     ]
    }
   ],
   "source": [
    "for items in tweets: #search through each tweet and obtain desired information \n",
    "    \n",
    "    sql_table=[]\n",
    "    sql_table.append(items.get('id'))\n",
    "    sql_table.append(items.get('timestamp_ms'))\n",
    "    \n",
    "    \n",
    "    try:\n",
    "        sql_table.append(items.get('quoted_status').get('extended_tweet').get('full_text'))\n",
    "        sql_table.append(items.get('retweeted_status').get('extended_tweet').get('full_text'))\n",
    "                         \n",
    "    except:\n",
    "        sql_table.append(items.get('text'))\n",
    "    \n",
    "    sql_table.append(analyser.polarity_scores(items.get('text')).get('compound'))\n",
    "    sql_table.append(items.get('lang'))\n",
    "    sql_table.append(items.get('user').get('location'))\n",
    "    sql_table.append(items.get('user').get('description'))\n",
    "    sql_table.append(items.get('user').get('followers_count'))\n",
    "    sql_table.append(items.get('user').get('friends_count'))\n",
    "    cur.execute('INSERT INTO twitter (id, [time], [text], compound_sentiment, lang, location, [description], followers_count, friends_count) Values (?,?,?,?,?,?,?,?,?)',sql_table)\n",
    "    \n",
    "cur.commit()\n",
    "    "
   ]
  },
  {
   "cell_type": "code",
   "execution_count": 192,
   "metadata": {},
   "outputs": [
    {
     "data": {
      "text/plain": [
       "[990979513868783616,\n",
       " '1525102902272',\n",
       " 'RT @JulyJane: @marshal_fanatic @2getherDelaware @tedlieu @realDonaldTrump Adam Schiff is a Congressman. The Trump campaign between 6/15/15…',\n",
       " 0.0,\n",
       " 'en',\n",
       " 'Philadelphia',\n",
       " 'Penn Law - Temple undergrad*Compton native*Philly resident*Attorney*Community Activist (NAACP voting, LGBT, Education, AARP, etc.)*Husband*Dad*SPORTS*Grandpa!',\n",
       " 1448,\n",
       " 993]"
      ]
     },
     "execution_count": 192,
     "metadata": {},
     "output_type": "execute_result"
    }
   ],
   "source": [
    "sql_table"
   ]
  },
  {
   "cell_type": "code",
   "execution_count": 185,
   "metadata": {},
   "outputs": [
    {
     "data": {
      "text/plain": [
       "{'created_at': 'Fri Apr 27 21:24:03 +0000 2018',\n",
       " 'id': 989978507613745152,\n",
       " 'id_str': '989978507613745152',\n",
       " 'text': '@marshal_fanatic @2getherDelaware @tedlieu @realDonaldTrump Adam Schiff is a Congressman. The Trump campaign betwee… https://t.co/QbahhIi8Ji',\n",
       " 'display_text_range': [60, 140],\n",
       " 'source': '<a href=\"http://twitter.com\" rel=\"nofollow\">Twitter Web Client</a>',\n",
       " 'truncated': True,\n",
       " 'in_reply_to_status_id': 989950175522316288,\n",
       " 'in_reply_to_status_id_str': '989950175522316288',\n",
       " 'in_reply_to_user_id': 390127234,\n",
       " 'in_reply_to_user_id_str': '390127234',\n",
       " 'in_reply_to_screen_name': 'marshal_fanatic',\n",
       " 'user': {'id': 21061888,\n",
       "  'id_str': '21061888',\n",
       "  'name': 'Dawn Kubie',\n",
       "  'screen_name': 'JulyJane',\n",
       "  'location': 'Bad Wildbad, Deutschland',\n",
       "  'url': None,\n",
       "  'description': 'We have to fight to keep our Republic. #VOTEBLUE',\n",
       "  'translator_type': 'none',\n",
       "  'protected': False,\n",
       "  'verified': False,\n",
       "  'followers_count': 1808,\n",
       "  'friends_count': 974,\n",
       "  'listed_count': 31,\n",
       "  'favourites_count': 196965,\n",
       "  'statuses_count': 40991,\n",
       "  'created_at': 'Tue Feb 17 03:54:38 +0000 2009',\n",
       "  'utc_offset': -14400,\n",
       "  'time_zone': 'Eastern Time (US & Canada)',\n",
       "  'geo_enabled': False,\n",
       "  'lang': 'en',\n",
       "  'contributors_enabled': False,\n",
       "  'is_translator': False,\n",
       "  'profile_background_color': '8B542B',\n",
       "  'profile_background_image_url': 'http://pbs.twimg.com/profile_background_images/560522103/sunset_lake.jpg',\n",
       "  'profile_background_image_url_https': 'https://pbs.twimg.com/profile_background_images/560522103/sunset_lake.jpg',\n",
       "  'profile_background_tile': True,\n",
       "  'profile_link_color': 'E81C4F',\n",
       "  'profile_sidebar_border_color': 'D9B17E',\n",
       "  'profile_sidebar_fill_color': 'EADEAA',\n",
       "  'profile_text_color': '333333',\n",
       "  'profile_use_background_image': True,\n",
       "  'profile_image_url': 'http://pbs.twimg.com/profile_images/938549014709932032/Adb6yyJi_normal.jpg',\n",
       "  'profile_image_url_https': 'https://pbs.twimg.com/profile_images/938549014709932032/Adb6yyJi_normal.jpg',\n",
       "  'profile_banner_url': 'https://pbs.twimg.com/profile_banners/21061888/1512602959',\n",
       "  'default_profile': False,\n",
       "  'default_profile_image': False,\n",
       "  'following': None,\n",
       "  'follow_request_sent': None,\n",
       "  'notifications': None},\n",
       " 'geo': None,\n",
       " 'coordinates': None,\n",
       " 'place': None,\n",
       " 'contributors': None,\n",
       " 'is_quote_status': False,\n",
       " 'extended_tweet': {'full_text': '@marshal_fanatic @2getherDelaware @tedlieu @realDonaldTrump Adam Schiff is a Congressman. The Trump campaign between 6/15/15 and 1/26/17 was not authorized to discuss affairs with foreign officials. And discussing how to influence a political campaign by receiving stolen emails from a foreign spy is never legal. https://t.co/KoqFbdQ6Qb',\n",
       "  'display_text_range': [60, 313],\n",
       "  'entities': {'hashtags': [],\n",
       "   'urls': [],\n",
       "   'user_mentions': [{'screen_name': 'marshal_fanatic',\n",
       "     'name': 'Marshall fanatic',\n",
       "     'id': 390127234,\n",
       "     'id_str': '390127234',\n",
       "     'indices': [0, 16]},\n",
       "    {'screen_name': '2getherDelaware',\n",
       "     'name': 'Action Delaware',\n",
       "     'id': 805388016692920320,\n",
       "     'id_str': '805388016692920320',\n",
       "     'indices': [17, 33]},\n",
       "    {'screen_name': 'tedlieu',\n",
       "     'name': 'Ted Lieu',\n",
       "     'id': 21059255,\n",
       "     'id_str': '21059255',\n",
       "     'indices': [34, 42]},\n",
       "    {'screen_name': 'realDonaldTrump',\n",
       "     'name': 'Donald J. Trump',\n",
       "     'id': 25073877,\n",
       "     'id_str': '25073877',\n",
       "     'indices': [43, 59]}],\n",
       "   'symbols': [],\n",
       "   'media': [{'id': 989978496452751362,\n",
       "     'id_str': '989978496452751362',\n",
       "     'indices': [314, 337],\n",
       "     'media_url': 'http://pbs.twimg.com/tweet_video_thumb/Db0cMohXcAIwAPd.jpg',\n",
       "     'media_url_https': 'https://pbs.twimg.com/tweet_video_thumb/Db0cMohXcAIwAPd.jpg',\n",
       "     'url': 'https://t.co/KoqFbdQ6Qb',\n",
       "     'display_url': 'pic.twitter.com/KoqFbdQ6Qb',\n",
       "     'expanded_url': 'https://twitter.com/JulyJane/status/989978507613745152/photo/1',\n",
       "     'type': 'animated_gif',\n",
       "     'video_info': {'aspect_ratio': [149, 142],\n",
       "      'variants': [{'bitrate': 0,\n",
       "        'content_type': 'video/mp4',\n",
       "        'url': 'https://video.twimg.com/tweet_video/Db0cMohXcAIwAPd.mp4'}]},\n",
       "     'sizes': {'thumb': {'w': 150, 'h': 150, 'resize': 'crop'},\n",
       "      'small': {'w': 298, 'h': 284, 'resize': 'fit'},\n",
       "      'medium': {'w': 298, 'h': 284, 'resize': 'fit'},\n",
       "      'large': {'w': 298, 'h': 284, 'resize': 'fit'}}}]},\n",
       "  'extended_entities': {'media': [{'id': 989978496452751362,\n",
       "     'id_str': '989978496452751362',\n",
       "     'indices': [314, 337],\n",
       "     'media_url': 'http://pbs.twimg.com/tweet_video_thumb/Db0cMohXcAIwAPd.jpg',\n",
       "     'media_url_https': 'https://pbs.twimg.com/tweet_video_thumb/Db0cMohXcAIwAPd.jpg',\n",
       "     'url': 'https://t.co/KoqFbdQ6Qb',\n",
       "     'display_url': 'pic.twitter.com/KoqFbdQ6Qb',\n",
       "     'expanded_url': 'https://twitter.com/JulyJane/status/989978507613745152/photo/1',\n",
       "     'type': 'animated_gif',\n",
       "     'video_info': {'aspect_ratio': [149, 142],\n",
       "      'variants': [{'bitrate': 0,\n",
       "        'content_type': 'video/mp4',\n",
       "        'url': 'https://video.twimg.com/tweet_video/Db0cMohXcAIwAPd.mp4'}]},\n",
       "     'sizes': {'thumb': {'w': 150, 'h': 150, 'resize': 'crop'},\n",
       "      'small': {'w': 298, 'h': 284, 'resize': 'fit'},\n",
       "      'medium': {'w': 298, 'h': 284, 'resize': 'fit'},\n",
       "      'large': {'w': 298, 'h': 284, 'resize': 'fit'}}}]}},\n",
       " 'quote_count': 0,\n",
       " 'reply_count': 4,\n",
       " 'retweet_count': 8,\n",
       " 'favorite_count': 94,\n",
       " 'entities': {'hashtags': [],\n",
       "  'urls': [{'url': 'https://t.co/QbahhIi8Ji',\n",
       "    'expanded_url': 'https://twitter.com/i/web/status/989978507613745152',\n",
       "    'display_url': 'twitter.com/i/web/status/9…',\n",
       "    'indices': [117, 140]}],\n",
       "  'user_mentions': [{'screen_name': 'marshal_fanatic',\n",
       "    'name': 'Marshall fanatic',\n",
       "    'id': 390127234,\n",
       "    'id_str': '390127234',\n",
       "    'indices': [0, 16]},\n",
       "   {'screen_name': '2getherDelaware',\n",
       "    'name': 'Action Delaware',\n",
       "    'id': 805388016692920320,\n",
       "    'id_str': '805388016692920320',\n",
       "    'indices': [17, 33]},\n",
       "   {'screen_name': 'tedlieu',\n",
       "    'name': 'Ted Lieu',\n",
       "    'id': 21059255,\n",
       "    'id_str': '21059255',\n",
       "    'indices': [34, 42]},\n",
       "   {'screen_name': 'realDonaldTrump',\n",
       "    'name': 'Donald J. Trump',\n",
       "    'id': 25073877,\n",
       "    'id_str': '25073877',\n",
       "    'indices': [43, 59]}],\n",
       "  'symbols': []},\n",
       " 'favorited': False,\n",
       " 'retweeted': False,\n",
       " 'possibly_sensitive': False,\n",
       " 'filter_level': 'low',\n",
       " 'lang': 'en'}"
      ]
     },
     "execution_count": 185,
     "metadata": {},
     "output_type": "execute_result"
    }
   ],
   "source": []
  },
  {
   "cell_type": "code",
   "execution_count": null,
   "metadata": {},
   "outputs": [],
   "source": []
  }
 ],
 "metadata": {
  "kernelspec": {
   "display_name": "Python 3",
   "language": "python",
   "name": "python3"
  },
  "language_info": {
   "codemirror_mode": {
    "name": "ipython",
    "version": 3
   },
   "file_extension": ".py",
   "mimetype": "text/x-python",
   "name": "python",
   "nbconvert_exporter": "python",
   "pygments_lexer": "ipython3",
   "version": "3.6.4"
  }
 },
 "nbformat": 4,
 "nbformat_minor": 2
}
